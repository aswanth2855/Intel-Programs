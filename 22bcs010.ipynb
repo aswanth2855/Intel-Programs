{
 "cells": [
  {
   "cell_type": "code",
   "execution_count": 3,
   "id": "1c3485ed-0ea3-4d50-81e5-90a1f6724814",
   "metadata": {},
   "outputs": [
    {
     "name": "stdout",
     "output_type": "stream",
     "text": [
      "Prediction for input [6]: 12.0\n"
     ]
    }
   ],
   "source": [
    "from sklearn.linear_model import LinearRegression\n",
    "import numpy as np\n",
    "x = np.array([[1], [2], [3], [4], [5]])\n",
    "y = np.array([2, 4, 6, 8, 10])\n",
    "model = LinearRegression()\n",
    "model.fit(x, y)\n",
    "test_data = np.array([[6]])\n",
    "prediction = model.predict(test_data)\n",
    "print(\"Prediction for input {}: {}\".format(test_data.flatten(),\n",
    "prediction[0]))"
   ]
  },
  {
   "cell_type": "code",
   "execution_count": 2,
   "id": "fd7f65dc-2102-4e40-b846-e56119121270",
   "metadata": {},
   "outputs": [
    {
     "name": "stdout",
     "output_type": "stream",
     "text": [
      "Coefficients: [2.]\n",
      "Intercept: 0.0\n",
      "Predictions: [12. 14. 16.]\n"
     ]
    }
   ],
   "source": [
    "from sklearn.linear_model import LinearRegression\n",
    "import numpy as np\n",
    "x = np.array([[1], [2], [3], [4], [5]])\n",
    "y = np.array([2, 4, 6, 8, 10])\n",
    "model = LinearRegression()\n",
    "model.fit(x, y)\n",
    "x_test = np.array([[6], [7], [8]])\n",
    "y_pred = model.predict(x_test)\n",
    "print(\"Coefficients:\",model.coef_)\n",
    "print(\"Intercept:\", model.intercept_)\n",
    "print(\"Predictions:\", y_pred)\n"
   ]
  },
  {
   "cell_type": "code",
   "execution_count": 1,
   "id": "0e8ce25e-df95-402b-b0ca-7edbdc180e22",
   "metadata": {},
   "outputs": [
    {
     "name": "stdout",
     "output_type": "stream",
     "text": [
      "Accuracy: 1.0\n"
     ]
    }
   ],
   "source": [
    "import numpy as np\n",
    "from sklearn.linear_model import LogisticRegression\n",
    "from sklearn.model_selection import train_test_split\n",
    "from sklearn.metrics import accuracy_score\n",
    "X = np.array([[1, 2], [2, 3], [3, 1], [4, 3], [5, 3]])\n",
    "y = np.array([0, 0, 0, 1, 1])\n",
    "X_train, X_test, y_train, y_test = train_test_split(X, y,\n",
    "test_size=0.2,\n",
    "random_state=42)\n",
    "model = LogisticRegression()\n",
    "model.fit(X_train, y_train)\n",
    "y_pred = model.predict(X_test)\n",
    "accuracy = accuracy_score(y_test, y_pred)\n",
    "print(\"Accuracy:\", accuracy)"
   ]
  },
  {
   "cell_type": "code",
   "execution_count": null,
   "id": "59c4a709-ac1d-4ab8-a08a-53876ae8e776",
   "metadata": {},
   "outputs": [],
   "source": []
  }
 ],
 "metadata": {
  "kernelspec": {
   "display_name": "Python 3 (ipykernel)",
   "language": "python",
   "name": "python3"
  },
  "language_info": {
   "codemirror_mode": {
    "name": "ipython",
    "version": 3
   },
   "file_extension": ".py",
   "mimetype": "text/x-python",
   "name": "python",
   "nbconvert_exporter": "python",
   "pygments_lexer": "ipython3",
   "version": "3.9.16"
  }
 },
 "nbformat": 4,
 "nbformat_minor": 5
}
