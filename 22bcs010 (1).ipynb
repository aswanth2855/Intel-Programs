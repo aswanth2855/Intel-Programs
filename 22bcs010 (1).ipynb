{
 "cells": [
  {
   "cell_type": "code",
   "execution_count": 3,
   "id": "1c3485ed-0ea3-4d50-81e5-90a1f6724814",
   "metadata": {},
   "outputs": [
    {
     "name": "stdout",
     "output_type": "stream",
     "text": [
      "Prediction for input [6]: 12.0\n"
     ]
    }
   ],
   "source": [
    "from sklearn.linear_model import LinearRegression\n",
    "import numpy as np\n",
    "x = np.array([[1], [2], [3], [4], [5]])\n",
    "y = np.array([2, 4, 6, 8, 10])\n",
    "model = LinearRegression()\n",
    "model.fit(x, y)\n",
    "test_data = np.array([[6]])\n",
    "prediction = model.predict(test_data)\n",
    "print(\"Prediction for input {}: {}\".format(test_data.flatten(),\n",
    "prediction[0]))"
   ]
  },
  {
   "cell_type": "code",
   "execution_count": 2,
   "id": "fd7f65dc-2102-4e40-b846-e56119121270",
   "metadata": {},
   "outputs": [
    {
     "name": "stdout",
     "output_type": "stream",
     "text": [
      "Coefficients: [2.]\n",
      "Intercept: 0.0\n",
      "Predictions: [12. 14. 16.]\n"
     ]
    }
   ],
   "source": [
    "from sklearn.linear_model import LinearRegression\n",
    "import numpy as np\n",
    "x = np.array([[1], [2], [3], [4], [5]])\n",
    "y = np.array([2, 4, 6, 8, 10])\n",
    "model = LinearRegression()\n",
    "model.fit(x, y)\n",
    "x_test = np.array([[6], [7], [8]])\n",
    "y_pred = model.predict(x_test)\n",
    "print(\"Coefficients:\",model.coef_)\n",
    "print(\"Intercept:\", model.intercept_)\n",
    "print(\"Predictions:\", y_pred)\n"
   ]
  },
  {
   "cell_type": "code",
   "execution_count": 6,
   "id": "9f55b964-5e3e-46f8-8b2f-902a3b755e75",
   "metadata": {},
   "outputs": [
    {
     "name": "stdout",
     "output_type": "stream",
     "text": [
      "Predictions for inputs [2.5 3.5]: [0 0]\n"
     ]
    }
   ],
   "source": [
    "from sklearn.linear_model import LogisticRegression\n",
    "import numpy as np\n",
    "x = np.array([[1], [2], [3], [4], [5]])\n",
    "y = np.array([0, 0, 0, 1, 1])\n",
    "model = LogisticRegression()\n",
    "model.fit(x, y)\n",
    "test_data = np.array([[2.5], [3.5]])\n",
    "predictions = model.predict(test_data)\n",
    "print(\"Predictions for inputs {}: {}\".format(test_data.flatten(),predictions))"
   ]
  },
  {
   "cell_type": "code",
   "execution_count": 1,
   "id": "0e8ce25e-df95-402b-b0ca-7edbdc180e22",
   "metadata": {},
   "outputs": [
    {
     "name": "stdout",
     "output_type": "stream",
     "text": [
      "Accuracy: 1.0\n"
     ]
    }
   ],
   "source": [
    "import numpy as np\n",
    "from sklearn.linear_model import LogisticRegression\n",
    "from sklearn.model_selection import train_test_split\n",
    "from sklearn.metrics import accuracy_score\n",
    "X = np.array([[1, 2], [2, 3], [3, 1], [4, 3], [5, 3]])\n",
    "y = np.array([0, 0, 0, 1, 1])\n",
    "X_train, X_test, y_train, y_test = train_test_split(X, y,\n",
    "test_size=0.2,\n",
    "random_state=42)\n",
    "model = LogisticRegression()\n",
    "model.fit(X_train, y_train)\n",
    "y_pred = model.predict(X_test)\n",
    "accuracy = accuracy_score(y_test, y_pred)\n",
    "print(\"Accuracy:\", accuracy)"
   ]
  },
  {
   "cell_type": "code",
   "execution_count": 7,
   "id": "55f71342-9810-4343-a473-2b5a16142f08",
   "metadata": {},
   "outputs": [
    {
     "name": "stdout",
     "output_type": "stream",
     "text": [
      "Labels: [0 0 1 1]\n"
     ]
    }
   ],
   "source": [
    "from sklearn.cluster import KMeans\n",
    "import numpy as np\n",
    "data = np.array([[1, 2], [1, 4], [10, 2], [10, 4]])\n",
    "kmeans = KMeans(n_clusters=2, random_state=42, n_init=10).fit(data)\n",
    "print(\"Labels:\", kmeans.labels_)"
   ]
  },
  {
   "cell_type": "code",
   "execution_count": 8,
   "id": "a5934794-14dc-4a68-b2d1-d53aa1576f08",
   "metadata": {},
   "outputs": [
    {
     "ename": "NameError",
     "evalue": "name 'explicitly' is not defined",
     "output_type": "error",
     "traceback": [
      "\u001b[0;31m---------------------------------------------------------------------------\u001b[0m",
      "\u001b[0;31mNameError\u001b[0m                                 Traceback (most recent call last)",
      "Cell \u001b[0;32mIn[8], line 6\u001b[0m\n\u001b[1;32m      4\u001b[0m X, y \u001b[38;5;241m=\u001b[39m make_blobs(n_samples\u001b[38;5;241m=\u001b[39m\u001b[38;5;241m200\u001b[39m, centers\u001b[38;5;241m=\u001b[39m\u001b[38;5;241m3\u001b[39m, random_state\u001b[38;5;241m=\u001b[39m\u001b[38;5;241m42\u001b[39m)\n\u001b[1;32m      5\u001b[0m kmeans \u001b[38;5;241m=\u001b[39m KMeans(n_clusters\u001b[38;5;241m=\u001b[39m\u001b[38;5;241m3\u001b[39m, n_init\u001b[38;5;241m=\u001b[39m\u001b[38;5;241m10\u001b[39m, random_state\u001b[38;5;241m=\u001b[39m\u001b[38;5;241m42\u001b[39m) \u001b[38;5;66;03m# Set n_init\u001b[39;00m\n\u001b[0;32m----> 6\u001b[0m \u001b[43mexplicitly\u001b[49m\n\u001b[1;32m      7\u001b[0m kmeans\u001b[38;5;241m.\u001b[39mfit(X)\n\u001b[1;32m      8\u001b[0m labels \u001b[38;5;241m=\u001b[39m kmeans\u001b[38;5;241m.\u001b[39mlabels_\n",
      "\u001b[0;31mNameError\u001b[0m: name 'explicitly' is not defined"
     ]
    }
   ],
   "source": [
    "from sklearn.cluster import KMeans\n",
    "from sklearn.datasets import make_blobs\n",
    "import matplotlib.pyplot as plt\n",
    "X, y = make_blobs(n_samples=200, centers=3, random_state=42)\n",
    "kmeans = KMeans(n_clusters=3, n_init=10, random_state=42) # Set n_init\n",
    "explicitly\n",
    "kmeans.fit(X)\n",
    "labels = kmeans.labels_\n",
    "centers = kmeans.cluster_centers_\n",
    "plt.scatter(X[:, 0], X[:, 1], c=labels)\n",
    "plt.scatter(centers[:, 0], centers[:, 1], marker='x', color='red')\n",
    "plt.title(\"k-means Clustering\")\n",
    "plt.xlabel(\"Feature 1\")\n",
    "plt.ylabel(\"Feature 2\")\n",
    "plt.show()"
   ]
  },
  {
   "cell_type": "code",
   "execution_count": null,
   "id": "ce1072a6-0491-48ca-b5ee-45082022c527",
   "metadata": {},
   "outputs": [],
   "source": []
  }
 ],
 "metadata": {
  "kernelspec": {
   "display_name": "Python 3 (ipykernel)",
   "language": "python",
   "name": "python3"
  },
  "language_info": {
   "codemirror_mode": {
    "name": "ipython",
    "version": 3
   },
   "file_extension": ".py",
   "mimetype": "text/x-python",
   "name": "python",
   "nbconvert_exporter": "python",
   "pygments_lexer": "ipython3",
   "version": "3.9.16"
  }
 },
 "nbformat": 4,
 "nbformat_minor": 5
}
